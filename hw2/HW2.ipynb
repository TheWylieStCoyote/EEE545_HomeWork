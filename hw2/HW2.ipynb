{
 "metadata": {
  "name": ""
 },
 "nbformat": 3,
 "nbformat_minor": 0,
 "worksheets": [
  {
   "cells": [
    {
     "cell_type": "markdown",
     "metadata": {},
     "source": [
      "Home Work 2\n",
      "===========\n",
      "\n",
      "Problems: 6.1, 6.5, 6.9, 6.22, 6.25.\n",
      "\n",
      "Due 1/28/15\n",
      "\n",
      "Name: Wylie Standage-Beier"
     ]
    },
    {
     "cell_type": "code",
     "collapsed": false,
     "input": [
      "import matplotlib.pyplot as plt\n",
      "import numpy as np\n",
      "import scipy.optimize as optimize\n",
      "import sympy\n",
      "%matplotlib inline\n",
      "Co = 3.0e8 # Speed of light"
     ],
     "language": "python",
     "metadata": {},
     "outputs": [],
     "prompt_number": 50
    },
    {
     "cell_type": "code",
     "collapsed": false,
     "input": [
      "def bode_plot(x, y, title='', xlabel='', ylabel1='',ylabel2=''):\n",
      "    '''Function to wrap plotting of complex numbers vs frequncy\n",
      "    \n",
      "    Parameters\n",
      "    ----------\n",
      "    x: ndarray\n",
      "        x axis data array\n",
      "    y: ndarray dtype=complex\n",
      "        y axis data array\n",
      "    \n",
      "    return\n",
      "    ------\n",
      "    plot object\n",
      "    \n",
      "    Example\n",
      "    -------\n",
      "    >>> x = np.linspace(1e2,1e6,1e3)\n",
      "    >>> y = 1+1j*1e-5*x+1/(1j*1e-5*x)\n",
      "    >>> plot = bode_plot(x,y)\n",
      "    '''\n",
      "    plt.grid(True)\n",
      "    plt.subplot(2, 1, 1)\n",
      "    plt.plot(w, np.abs(Z),'red')\n",
      "    plt.yscale('log')\n",
      "    plt.title(title)\n",
      "    plt.xlabel(xlabel)\n",
      "    plt.ylabel(ylabel1)\n",
      "    plt.subplot(2, 1, 2)\n",
      "    plt.plot(w, np.angle(Z,deg=True), 'blue' )\n",
      "    plt.xlabel(xlabel)\n",
      "    plt.ylabel(ylabel2)\n",
      "    plt.show()"
     ],
     "language": "python",
     "metadata": {},
     "outputs": [],
     "prompt_number": 51
    },
    {
     "cell_type": "code",
     "collapsed": false,
     "input": [
      "def rollback(Zo,ZL,l,beta):\n",
      "    ''' rollback of a load \n",
      "    \n",
      "    Parameter\n",
      "    ---------\n",
      "    Zo: float, complex, ndarray dtype= float or complex\n",
      "        Is the instrinsic impedence of the transmission line\n",
      "    ZL: float, complex, ndarray dtype= float or complex\n",
      "        The load impedence of the tranmission line\n",
      "    l: float\n",
      "        The lenght of the transmission line in meters\n",
      "    beta: float, complex, ndarray dtype= float or complex\n",
      "        propigation constant of the transmission line\n",
      "    \n",
      "    retrun\n",
      "    ------\n",
      "    Input impedence of the ciruit\n",
      "    \n",
      "    Example\n",
      "    -------\n",
      "    >>> Zo, ZL = 50., 0 # Ohms\n",
      "    >>> l, gamma = 0.25, 1.\n",
      "    >>> rollback( Zo, ZL, l, gamma)\n",
      "        \n",
      "    '''\n",
      "    #if type(l) is np.ndarray:\n",
      "    #    l_len = l.size\n",
      "    #    l.reshape((1,l_len))\n",
      "    #elif type(beta) is np.ndarray:\n",
      "    #    beta_len = beta.size\n",
      "    #    beta.reshape(beta_len,1)\n",
      "    prop_const = np.dot(l,beta)\n",
      "    sin_prop_const = np.sin(prop_const)\n",
      "    cos_prop_const = np.cos(prop_const)\n",
      "    return Zo*((ZL*cos_prop_const+1j*Zo*sin_prop_const)/\n",
      "               (Zo*cos_prop_const+1j*ZL*sin_prop_const))\n",
      "def rollback_sympy(Zo,ZL,l,gamma):\n",
      "    ''' Symbolic rollback\n",
      "    This function generates a sympy object from the arguments\n",
      "    \n",
      "    Parameter\n",
      "    ---------\n",
      "    Zo:\n",
      "        transmission line impedance\n",
      "    ZL:\n",
      "        load impedance\n",
      "    l:\n",
      "        length of the line\n",
      "    gamma:\n",
      "        propigation constant for the transmission line\n",
      "    \n",
      "    return\n",
      "    ------\n",
      "    Expression for the rolled back impedance\n",
      "    '''\n",
      "    return Zo*((ZL*sympy.cos(l*gamma)+1j*Zo*sympy.sin(l*gamma))/\n",
      "               (Zo*sympy.cos(l*gamma)+1j*ZL*sympy.sin(l*gamma)))"
     ],
     "language": "python",
     "metadata": {},
     "outputs": [],
     "prompt_number": 104
    },
    {
     "cell_type": "code",
     "collapsed": false,
     "input": [
      "def real_sympy(exp):\n",
      "    '''function to return just the real part of a sympy expression \n",
      "    \n",
      "    Parameter\n",
      "    ---------\n",
      "    exp: sympy\n",
      "        sympy expression or symbol\n",
      "    \n",
      "    return\n",
      "    ------\n",
      "    real expression'''\n",
      "    return (sympy.functions.conjugate(exp)+exp)/2\n",
      "def imag_sympy(exp):\n",
      "    '''function to return just the imaginary part of a sympy expression \n",
      "    \n",
      "    Parameter\n",
      "    ---------\n",
      "    exp: sympy\n",
      "        sympy expression or symbol\n",
      "    \n",
      "    return\n",
      "    ------\n",
      "    imaginary expression'''\n",
      "    return (exp - sympy.functions.conjugate(exp))/2"
     ],
     "language": "python",
     "metadata": {},
     "outputs": [],
     "prompt_number": 53
    },
    {
     "cell_type": "markdown",
     "metadata": {},
     "source": [
      "Problem 1\n",
      "---------\n",
      "6.1\n",
      "\n",
      "A series RLC resonator with an external load is shown below. Find the resonant frequency, the unloaded\n",
      "Q, and the loaded Q.\n",
      "\n",
      "<center><img src=\"./files/images/2_1_circuit.png\" /></center>"
     ]
    },
    {
     "cell_type": "code",
     "collapsed": false,
     "input": [
      "R1 = 2.5       # Ohms\n",
      "L  = 50e-9     # Henerrys\n",
      "C  = 0.79e-12  # Farads\n",
      "RL = 2.5       # Ohms"
     ],
     "language": "python",
     "metadata": {},
     "outputs": [],
     "prompt_number": 54
    },
    {
     "cell_type": "code",
     "collapsed": false,
     "input": [
      "wo = np.sqrt(1./(L*C))\n",
      "print(\"Ideal lossless frequency of the LC circuit %f\" % float(wo/(2*np.pi)))"
     ],
     "language": "python",
     "metadata": {},
     "outputs": [
      {
       "output_type": "stream",
       "stream": "stdout",
       "text": [
        "Ideal lossless frequency of the LC circuit 800795425.931000\n"
       ]
      }
     ],
     "prompt_number": 55
    },
    {
     "cell_type": "code",
     "collapsed": false,
     "input": [
      "w = np.linspace(wo*0.01,wo*2,1001)"
     ],
     "language": "python",
     "metadata": {},
     "outputs": [],
     "prompt_number": 56
    },
    {
     "cell_type": "code",
     "collapsed": false,
     "input": [
      "Z = R1 + 1j*w*L + 1/(1j*w*C)\n",
      "ZL = R1 + 1j*w*L + 1/(1j*w*C) + RL"
     ],
     "language": "python",
     "metadata": {},
     "outputs": [],
     "prompt_number": 57
    },
    {
     "cell_type": "code",
     "collapsed": false,
     "input": [
      "bode_plot(w,Z,title=\"Plot for Unloaded Serier resonator\",\n",
      "          xlabel=\"Frequnecy Hz\",ylabel1='Impedence Ohms',\n",
      "          ylabel2=\"Phase degrees\")\n",
      "bode_plot(w,ZL,title=\"Plot for loaded Serier resonator\",\n",
      "          xlabel=\"Frequnecy Hz\",ylabel1='Impedence Ohms',\n",
      "          ylabel2=\"Phase degrees\")"
     ],
     "language": "python",
     "metadata": {},
     "outputs": [
      {
       "metadata": {},
       "output_type": "display_data",
       "png": "[encoded data removed]",
       "text": [
        "<matplotlib.figure.Figure at 0x7f1259909610>"
       ]
      },
      {
       "metadata": {},
       "output_type": "display_data",
       "png": "[encoded data removed]",
       "text": [
        "<matplotlib.figure.Figure at 0x7f12599095d0>"
       ]
      }
     ],
     "prompt_number": 58
    },
    {
     "cell_type": "code",
     "collapsed": false,
     "input": [
      "Qo = wo*L/R1\n",
      "print('Q-factor for unloaded %.3f' %float(Qo))"
     ],
     "language": "python",
     "metadata": {},
     "outputs": [
      {
       "output_type": "stream",
       "stream": "stdout",
       "text": [
        "Q-factor for unloaded 100.631\n"
       ]
      }
     ],
     "prompt_number": 59
    },
    {
     "cell_type": "code",
     "collapsed": false,
     "input": [
      "Qe = wo*L/RL\n",
      "print('Q-factor for external %.3f' %float(Qe))"
     ],
     "language": "python",
     "metadata": {},
     "outputs": [
      {
       "output_type": "stream",
       "stream": "stdout",
       "text": [
        "Q-factor for external 100.631\n"
       ]
      }
     ],
     "prompt_number": 60
    },
    {
     "cell_type": "code",
     "collapsed": false,
     "input": [
      "QL = (Qo**-1 + Qe**-1)**-1\n",
      "print('Q-factor for loaded %.3f' %float(QL))"
     ],
     "language": "python",
     "metadata": {},
     "outputs": [
      {
       "output_type": "stream",
       "stream": "stdout",
       "text": [
        "Q-factor for loaded 50.315\n"
       ]
      }
     ],
     "prompt_number": 61
    },
    {
     "cell_type": "markdown",
     "metadata": {},
     "source": [
      "Problem 2\n",
      "---------\n",
      "6.5\n",
      "\n",
      "A resonator is constructed from a 3.0 cm length of 100 Ohms air-filled coaxial line, shorted at one end\n",
      "and terminated with a capacitor at the other end, as shown below. \n",
      "\n",
      "<center><img src=\"./files/images/2_2_circuit.png\" /></center>\n",
      "\n",
      "(a) Determine the capacitor value to achieve the lowest order resonance at 6.0 GHz. \n",
      "\n",
      "(b) Now assume that loss is introduced by placing a 10,000 Ohms resistor in parallel with the capacitor. Calculate the unloaded Q."
     ]
    },
    {
     "cell_type": "code",
     "collapsed": false,
     "input": [
      "l  = 0.03 # 3.00 cm\n",
      "Zo = 100. # Ohms\n",
      "R  = 1e4  # Ohms\n",
      "fo = 6e9  # Hz\n",
      "epsilonr = 1.   # unitless\n",
      "mur      = 1.   # unitless"
     ],
     "language": "python",
     "metadata": {},
     "outputs": [],
     "prompt_number": 164
    },
    {
     "cell_type": "markdown",
     "metadata": {},
     "source": [
      "### 2 a.\n",
      "Determine the capacitor value to achieve the lowest order resonance at 6.0 GHz. "
     ]
    },
    {
     "cell_type": "code",
     "collapsed": false,
     "input": [
      "wo = 2*np.pi*fo\n",
      "beta = ( wo * np.sqrt(epsilonr*mur)) / Co"
     ],
     "language": "python",
     "metadata": {},
     "outputs": [],
     "prompt_number": 63
    },
    {
     "cell_type": "code",
     "collapsed": false,
     "input": [
      "Zin = rollback(Zo,0.,l,beta)"
     ],
     "language": "python",
     "metadata": {},
     "outputs": [],
     "prompt_number": 64
    },
    {
     "cell_type": "code",
     "collapsed": false,
     "input": [
      "Capacitor = 1./(wo*Zin.conj().imag)\n",
      "Lo = Zin.imag/wo"
     ],
     "language": "python",
     "metadata": {},
     "outputs": [],
     "prompt_number": 65
    },
    {
     "cell_type": "code",
     "collapsed": false,
     "input": [
      "print('The equivalent Inductance of the transmission line and short %s H' % str(Lo))\n",
      "print('Matching Capacitor %s F' % str(Capacitor))"
     ],
     "language": "python",
     "metadata": {},
     "outputs": [
      {
       "output_type": "stream",
       "stream": "stdout",
       "text": [
        "The equivalent Inductance of the transmission line and short 1.92721391164e-09 H\n",
        "Matching Capacitor -3.65096643709e-13 F\n"
       ]
      }
     ],
     "prompt_number": 66
    },
    {
     "cell_type": "markdown",
     "metadata": {},
     "source": [
      "### 2 b.\n",
      "Now assume that loss is introduced by placing a 10,000 Ohms resistor in parallel with the capacitor. Calculate the unloaded Q."
     ]
    },
    {
     "cell_type": "markdown",
     "metadata": {},
     "source": [
      "#### Simple approximation\n",
      "This is a simple approximation modeling the coax roll back as a inductor. This is only valid for a single or a very narrow frequency range."
     ]
    },
    {
     "cell_type": "code",
     "collapsed": false,
     "input": [
      "Q_LRC = R / (wo*Lo)"
     ],
     "language": "python",
     "metadata": {},
     "outputs": [],
     "prompt_number": 67
    },
    {
     "cell_type": "code",
     "collapsed": false,
     "input": [
      "print('Q-factor for circuit using the LRC model %.3f' % float(Q_LRC))"
     ],
     "language": "python",
     "metadata": {},
     "outputs": [
      {
       "output_type": "stream",
       "stream": "stdout",
       "text": [
        "Q-factor for circuit using the LRC model 137.638\n"
       ]
      }
     ],
     "prompt_number": 68
    },
    {
     "cell_type": "markdown",
     "metadata": {},
     "source": [
      "#### More Accurate approximation\n",
      "The above model is not 100% correct as the impedance of the Coax roll back is not function as a inductor with frequency, only at the signal or a VERY narrow frequency. This is a numeric approimation using the Scipy minimize tools."
     ]
    },
    {
     "cell_type": "code",
     "collapsed": false,
     "input": [
      "Z_res, Z_res_mag, Z_res_imag, gamma, gamma_mag = resonator_helper(100.,0.,l,C=Capacitor,R=R)"
     ],
     "language": "python",
     "metadata": {},
     "outputs": [],
     "prompt_number": 327
    },
    {
     "cell_type": "code",
     "collapsed": false,
     "input": [
      "Z_res(wo/(2*np.pi))"
     ],
     "language": "python",
     "metadata": {},
     "outputs": [
      {
       "output_type": "stream",
       "stream": "stdout",
       "text": [
        "w: 37699111843.1\n",
        "beta: 125.663706144\n",
        "Zc: (-0+72.6542528005j)\n",
        "Zline: 72.6542528005j\n"
       ]
      },
      {
       "metadata": {},
       "output_type": "pyout",
       "prompt_number": 254,
       "text": [
        "36.327126400268007j"
       ]
      }
     ],
     "prompt_number": 254
    },
    {
     "cell_type": "code",
     "collapsed": false,
     "input": [
      "gamma_mag(wo/(2*np.pi)+1000)"
     ],
     "language": "python",
     "metadata": {},
     "outputs": [
      {
       "output_type": "stream",
       "stream": "stdout",
       "text": [
        "w: 37699118126.3\n",
        "beta: 125.663727088\n",
        "Zc: (-0+72.6542528005j)\n",
        "Zline: 72.6543487991j\n"
       ]
      },
      {
       "metadata": {},
       "output_type": "pyout",
       "prompt_number": 255,
       "text": [
        "0.99999999999999989"
       ]
      }
     ],
     "prompt_number": 255
    },
    {
     "cell_type": "code",
     "collapsed": false,
     "input": [
      "fo \n",
      "freq = np.linspace(fo/10,2*fo,1000)\n",
      "#plt.plot(freq,gamma_mag(freq))"
     ],
     "language": "python",
     "metadata": {},
     "outputs": [],
     "prompt_number": 257
    },
    {
     "cell_type": "code",
     "collapsed": false,
     "input": [
      "def resonator_helper(Zo,Zl,l,C,R=0.,epsilonr=1.,mur=1.):\n",
      "    ''' Generates impedance of the transmission line circuit\n",
      "    \n",
      "    Parameter\n",
      "    ---------\n",
      "    Zo:\n",
      "        line impedance\n",
      "    Zl:\n",
      "        terminated load impedance\n",
      "    l:\n",
      "        length of the line in meters\n",
      "    epsilonr: float or complex\n",
      "        epsilon of the media\n",
      "    mur: float or complex\n",
      "        mu of the media\n",
      "    \n",
      "    return\n",
      "    ------\n",
      "    function with only argument\n",
      "    '''\n",
      "    def resonator_impedance(frequency):\n",
      "        ''' Function to get the single frequency impedance of the resonator\n",
      "        \n",
      "        Parameter\n",
      "        ---------\n",
      "        frequency: float\n",
      "            the frequency for the impedance to be calculated\n",
      "        \n",
      "        return\n",
      "        ------\n",
      "        The roll impedance at that frequency\n",
      "        '''\n",
      "        w = 2*np.pi*frequency\n",
      "        beta = ( w * np.sqrt(epsilonr*mur)) / Co\n",
      "        Zc = 1./(1j*w*C)\n",
      "        Z_line = rollback( Zo, Zl, l, beta)\n",
      "        if R == 0:\n",
      "            Zin = ( Z_line**-1 + Zc**-1)**-1\n",
      "        else:\n",
      "            Zin = ( Z_line**-1 + Zc**-1 + R**-1)**-1\n",
      "        return Zin\n",
      "    def resonator_impedance_mag(frequency):\n",
      "        ''' Function to get the impedance magitude\n",
      "        \n",
      "        Parameter\n",
      "        ---------\n",
      "        frequency: float\n",
      "            frequency driving the resonator\n",
      "        \n",
      "        return\n",
      "        ------\n",
      "        magitude of the impedance\n",
      "        '''\n",
      "        return np.abs(resonator_impedance(frequency))\n",
      "    def resonator_impedance_imag(frequency):\n",
      "        ''' Function to get the imaginary impedance of the resonator\n",
      "        \n",
      "        Parameter\n",
      "        ---------\n",
      "        frequnecy: float\n",
      "            frequnecy driving the the resonator\n",
      "        \n",
      "        return\n",
      "        ------\n",
      "        imaginary part of the impedance\n",
      "        '''\n",
      "        return np.imag(resonator_impedance(frequency))\n",
      "    def resonator_reflection(frequency):\n",
      "        ''' Function to get the reflection coeficent for the resonator\n",
      "        \n",
      "        Parameter\n",
      "        ---------\n",
      "        frequency: float\n",
      "            frequency driving the resonator\n",
      "        \n",
      "        return\n",
      "        ------\n",
      "        relfection coeficent\n",
      "        '''\n",
      "        Zin = resonator_impedance(frequency)\n",
      "        return (Zin-Zo)/(Zin+Zo)\n",
      "    def resonator_reflection_mag(frequency):\n",
      "        ''' Function to get the magitude of the resonator reflection\n",
      "        \n",
      "        Parameter\n",
      "        ---------\n",
      "        frequency: float\n",
      "            frequency driving the resonator\n",
      "        \n",
      "        return\n",
      "        ------\n",
      "        reflection magitude\n",
      "        '''\n",
      "        return np.abs(resonator_reflection(frequency))\n",
      "    return resonator_impedance, resonator_impedance_mag,\\\n",
      "            resonator_impedance_imag, resonator_reflection,\\\n",
      "            resonator_reflection_mag"
     ],
     "language": "python",
     "metadata": {},
     "outputs": [],
     "prompt_number": 317
    },
    {
     "cell_type": "code",
     "collapsed": false,
     "input": [
      "w = 2*np.pi*freq\n",
      "beta = ( w ) / Co\n",
      "Zc = 1/(1j*w*Capacitor)\n",
      "z = rollback( 100., 0, l, beta)\n",
      "Zin = (z**-1+Zc**-1)**-1\n",
      "gamma1 = (Zin-100)/(Zin+100)\n",
      "plt.title(\"Reflection Coeficent\")\n",
      "plt.plot(freq,np.real(gamma1),'b')\n",
      "plt.plot(freq,np.imag(gamma1),'r')\n",
      "plt.plot(freq,np.abs(gamma1),'black')"
     ],
     "language": "python",
     "metadata": {},
     "outputs": [
      {
       "metadata": {},
       "output_type": "pyout",
       "prompt_number": 329,
       "text": [
        "[<matplotlib.lines.Line2D at 0x7f1254c0f9d0>]"
       ]
      },
      {
       "metadata": {},
       "output_type": "display_data",
       "png": "[encoded data removed]",
       "text": [
        "<matplotlib.figure.Figure at 0x7f1254d00890>"
       ]
      }
     ],
     "prompt_number": 329
    },
    {
     "cell_type": "code",
     "collapsed": false,
     "input": [
      "zfunc = Z_res(freq)\n",
      "gamma_func = (zfunc-50.)/(zfunc+50.)\n",
      "plt.title(\"Reflection Coeficent\")\n",
      "plt.plot(freq,np.real(gamma(freq)),'b')\n",
      "plt.plot(freq,np.imag(gamma(freq)),'r')\n",
      "plt.plot(freq,np.abs(gamma(freq)                                                                                                                                                                                                                                                                                                                                                                                                                                                                                                                                                                                                                                                                                                                                                                                                                                                                                                                                                                                                                                                                                                                                                                                                                                                                                                                                                                                                                                                                                                                                                                                                                                                                                                                                                                                                                                                                                                                                                                                                                                                                                                                                                                                                                                                                                                                                                                                                                                                                                                                                                                                                                                                                                                                                                                                                                                                                                                                                                                                                                                                                                                                                                                                                                                                                                                                                                                                                                                                                                                                                                                                                                                                                                                                                                                                                                                                                                                                                                                                                                                                                                                                                                                                                                        ),'black')"
     ],
     "language": "python",
     "metadata": {},
     "outputs": [
      {
       "metadata": {},
       "output_type": "pyout",
       "prompt_number": 328,
       "text": [
        "[<matplotlib.lines.Line2D at 0x7f1254cd0b10>]"
       ]
      },
      {
       "metadata": {},
       "output_type": "display_data",
       "png": "[encoded data removed]",
       "text": [
        "<matplotlib.figure.Figure at 0x7f1254db6e90>"
       ]
      }
     ],
     "prompt_number": 328
    },
    {
     "cell_type": "code",
     "collapsed": false,
     "input": [],
     "language": "python",
     "metadata": {},
     "outputs": [
      {
       "metadata": {},
       "output_type": "pyout",
       "prompt_number": 326,
       "text": [
        "0.0099502340282516845"
       ]
      }
     ],
     "prompt_number": 326
    },
    {
     "cell_type": "markdown",
     "metadata": {},
     "source": [
      "Problem 3\n",
      "---------\n",
      "6.9\n",
      "\n",
      "\n",
      "A rectangular cavity resonator is constructed from a 2.0 cm length of aluminum X-band waveguide.\n",
      "The cavity is air filled. Find the resonant frequency and unloaded Q of the TE101 and TE102 resonant\n",
      "modes."
     ]
    },
    {
     "cell_type": "code",
     "collapsed": false,
     "input": [
      "a, b, d = 0.0285, 0.01262, 0.02 # demention in meters\n",
      "modes = [(1,0,1), (1,0,2)]\n",
      "epsilonr = 1.\n",
      "mur      = 1."
     ],
     "language": "python",
     "metadata": {},
     "outputs": [],
     "prompt_number": 20
    },
    {
     "cell_type": "markdown",
     "metadata": {},
     "source": [
      "#### Sigma of the cavity\n",
      "No material was given for the cavity, therefore I am going with copper"
     ]
    },
    {
     "cell_type": "code",
     "collapsed": false,
     "input": [
      "sigma = 5.813e7"
     ],
     "language": "python",
     "metadata": {},
     "outputs": [],
     "prompt_number": 21
    },
    {
     "cell_type": "code",
     "collapsed": false,
     "input": [
      "def get_k( mode, dim ):\n",
      "    ''' function to return the k magitude of the cavity\n",
      "    \n",
      "    Parameter\n",
      "    ---------\n",
      "    mode: tuple\n",
      "        (m, n, l) This is the mode numbers of the cavity\n",
      "    dim: tuple\n",
      "        (a, b, c) This is the physical dementions of the cavity\n",
      "    \n",
      "    return\n",
      "    ------\n",
      "    Magitude of the k vector'''\n",
      "    m, n, l = mode\n",
      "    a, b, c = dim\n",
      "    return np.sqrt(((m*np.pi)/a)**2+((n*np.pi)/b)**2+((l*np.pi)/c)**2)\n",
      "\n",
      "def fo_from_k(k,epsilonr=epsilonr,mur=mur):\n",
      "    ''' converts k mag to frequency for the given cavity\n",
      "    \n",
      "    Parameter\n",
      "    ---------\n",
      "    k:\n",
      "        k vector mag for the cavity\n",
      "    epsilonr:\n",
      "        is the relitive epsilon of the material in the cavity\n",
      "    mur:\n",
      "        is the relitive mu of the material in the cavity\n",
      "    \n",
      "    return\n",
      "    ------\n",
      "    frequnecy of the k vector mag'''\n",
      "    return Co*k/(np.pi*np.sqrt(epsilonr*mur))\n",
      "\n",
      "def Q_cavity(mode, dim, fo, sigma):\n",
      "    '''Calculates the Q-factor of the cavity from the Rs of the cavity\n",
      "    \n",
      "    Parameter\n",
      "    ---------\n",
      "    mode: tuple\n",
      "        (m, n, l) This is the mode numbers of the cavity\n",
      "    dim: tuple\n",
      "        (a, b, c) This is the physical dementions of the cavity\n",
      "    fo:\n",
      "        frequnecy of resoninates\n",
      "    sigma:\n",
      "        surface conductivity of the walls of the cavity\n",
      "    \n",
      "    return\n",
      "    ------\n",
      "    Q-factor of the cavity'''\n",
      "    a, b, d = dim\n",
      "    m, n, l = mode\n",
      "    muo = np.pi*4e-7\n",
      "    epsilono =  8.854187817e-12\n",
      "    eta = np.sqrt(muo/epsilono)\n",
      "    wo = 2*np.pi*fo\n",
      "    Rs = np.sqrt((wo*muo)/(2*sigma))\n",
      "    return (((k*a*d)**3*b*eta)/(2*np.pi**2*Rs))/(2*l**2*a**3*b+2*b*d**3+l**2*a**3*d+a*d**3)"
     ],
     "language": "python",
     "metadata": {},
     "outputs": [],
     "prompt_number": 22
    },
    {
     "cell_type": "code",
     "collapsed": false,
     "input": [
      "for m in modes:\n",
      "    k = get_k(m, (a,b,d))\n",
      "    fo = fo_from_k(k)\n",
      "    Q = Q_cavity(m, (a,b,d), fo, sigma)\n",
      "    print('Mode: %s, frequency %.6f GHz, Q-Factor %.3f' % (str(m), fo/1e9, Q))"
     ],
     "language": "python",
     "metadata": {},
     "outputs": [
      {
       "output_type": "stream",
       "stream": "stdout",
       "text": [
        "Mode: (1, 0, 1), frequency 18.324937 GHz, Q-Factor 6048.697\n",
        "Mode: (1, 0, 2), frequency 31.793133 GHz, Q-Factor 7669.686\n"
       ]
      }
     ],
     "prompt_number": 23
    },
    {
     "cell_type": "markdown",
     "metadata": {},
     "source": [
      "Problem 4\n",
      "---------\n",
      "6.22\n",
      "\n",
      "A parallel RLC circuit, with R = 1000 Ohms\t, L = 1.26 nH, C = 0.804 pF, is coupled with a series\n",
      "capacitor, C0, to a 50 ohms transmission line, as shown below. Determine C0 for critical coupling to the\n",
      "line. What is the resonant frequency?\n",
      "\n",
      "<center><img src=\"./files/images/2_3_circuit.png\" /></center>"
     ]
    },
    {
     "cell_type": "code",
     "collapsed": false,
     "input": [
      "R = 1000.     # Ohms\n",
      "L = 1.26e-9   # Henry's\n",
      "C = 0.804e-12 # Farads\n",
      "Zo = 50"
     ],
     "language": "python",
     "metadata": {},
     "outputs": [],
     "prompt_number": 24
    },
    {
     "cell_type": "code",
     "collapsed": false,
     "input": [
      "w, Co = sympy.symbols('w, Co')"
     ],
     "language": "python",
     "metadata": {},
     "outputs": [],
     "prompt_number": 25
    },
    {
     "cell_type": "markdown",
     "metadata": {},
     "source": [
      "Parallel Resonance circuit\n",
      "\n",
      "1. $$ Z_{||RLC} = {({R}^{-1} + {(j*\\omega * L)}^{-1} + {(\\cfrac{1}{j*\\omega * C})}^{-1})}^{-1}$$\n",
      "2. $$ {{Z}_{C}}^{*} = {Z}_{L}$$\n",
      "3. $$ \\cfrac{1}{\\omega * C} = j * \\omega * L $$\n",
      "4. $$ {\\omega}_{o} = \\cfrac{1}{\\sqrt{L*C}} $$\n",
      "\n"
     ]
    },
    {
     "cell_type": "code",
     "collapsed": false,
     "input": [
      "wo = np.sqrt(1/(L*C))\n",
      "Z_RLC = ((R)**-1 + (1j*w*L)**-1 + (1./(1j*w*C))**-1)**-1\n",
      "print('The Unloaded Resonance frequency of the parallel resonance is %.6f GHz' % float(wo * 1e-9))"
     ],
     "language": "python",
     "metadata": {},
     "outputs": [
      {
       "output_type": "stream",
       "stream": "stdout",
       "text": [
        "The Unloaded Resonance frequency of the parallel resonance is 31.418591 GHz\n"
       ]
      }
     ],
     "prompt_number": 26
    },
    {
     "cell_type": "code",
     "collapsed": false,
     "input": [
      "w = np.linspace(100,2*wo,1000)"
     ],
     "language": "python",
     "metadata": {},
     "outputs": [],
     "prompt_number": 27
    },
    {
     "cell_type": "markdown",
     "metadata": {},
     "source": [
      "Matching the parallel resonance circuit with Co\n",
      "\n",
      "5.  $$ Imag({Z}_{{C}_{o}}) =  Imag({Z_{||RLC}}^{*}) $$\n",
      "6.  $$ \\cfrac{1}{\\omega * {C}_{o} } = Imag(  )$$"
     ]
    },
    {
     "cell_type": "code",
     "collapsed": false,
     "input": [],
     "language": "python",
     "metadata": {},
     "outputs": [],
     "prompt_number": 27
    },
    {
     "cell_type": "markdown",
     "metadata": {},
     "source": [
      "Solve for Co\n",
      "\n",
      "1. $$ Z_{||RLC} = R + j*\\omega * L + \\cfrac{1}{j*\\omega * C}$$\n",
      "2. $$ Z_{C_o} = \\cfrac{1}{j*\\omega*C_o}$$\n",
      "3. $$ Z_{o} = \\cfrac{1}{\\cfrac{1}{Z_{||RLC}}+\\cfrac{1}{Z_{C_o}}}$$\n",
      "4. $$ \\cfrac{1}{Z_{||RLC}}+\\cfrac{1}{Z_{C_o}} = \\cfrac{1}{  Z_{o} } $$\n",
      "5. $$ \\cfrac{1}{Z_{C_o}} = \\cfrac{1}{  Z_{o} } - \\cfrac{1}{Z_{||RLC}} $$\n",
      "6. $$ Z_{C_o} = \\cfrac{1}{\\cfrac{1}{  Z_{o} } - \\cfrac{1}{Z_{||RLC}}} $$\n",
      "7. $$ Z_{C_o} = {( {Z_{o}}^{-1} - {Z_{||RLC}}^{-1} )}^{-1} $$\n",
      "8. $$ \\cfrac{1}{j*\\omega*{C}_{o}} = {( {Z_{o}}^{-1} - {Z_{||RLC}}^{-1} )}^{-1} $$\n",
      "9. $$ {C}_{o} = \\cfrac{( {Z_{o}}^{-1} - {Z_{||RLC}}^{-1} )}{j*\\omega} $$"
     ]
    },
    {
     "cell_type": "markdown",
     "metadata": {},
     "source": [
      "\n",
      "\n",
      "1. $$  $$"
     ]
    },
    {
     "cell_type": "code",
     "collapsed": false,
     "input": [],
     "language": "python",
     "metadata": {},
     "outputs": [],
     "prompt_number": 27
    },
    {
     "cell_type": "markdown",
     "metadata": {},
     "source": [
      "Problem 5\n",
      "---------\n",
      "6.25\n",
      "\n",
      "A microwave resonator is measured in a two-port configuration like that shown in Figure 6.21. The\n",
      "minimum insertion loss is measured as 1.94 dB at 3.0000 GHz. The insertion loss is 4.95 dB at\n",
      "2.9925 GHz and at 3.0075 GHz. What is the unloaded Q of the resonator?\n",
      "\n",
      "<center><img src=\"./files/images/2_4_circuit.png\" /></center>"
     ]
    },
    {
     "cell_type": "markdown",
     "metadata": {},
     "source": [
      "#### solution 1.\n",
      "Note the about 3 dB difference is the values of the insertion loss at resonances of 3.0000 GHz \n",
      "and the off resonances at 2.9925 ad 3.0075 GHz. This correspones the the Bandwidth of the resonator.\n",
      "\n",
      "1.  $$ BW = {F}_{max} - {F}_{min} $$\n",
      "2.  $$ BW = 3.0075 GHz - 2.99925 GHz $$ \n",
      "3.  $$ BW = 15.0 MHz $$\n",
      "4.  $$ BW = \\cfrac{1}{Q} $$ eq. 6.21 on page 277\n",
      "5.  $$ Q = \\cfrac{1}{15.0 MHz} $$\n",
      "6.  $$ Q = 1.5000 *{10}^7 $$"
     ]
    }
   ],
   "metadata": {}
  }
 ]
}