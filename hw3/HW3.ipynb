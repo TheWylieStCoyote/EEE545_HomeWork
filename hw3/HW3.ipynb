{
 "metadata": {
  "name": ""
 },
 "nbformat": 3,
 "nbformat_minor": 0,
 "worksheets": [
  {
   "cells": [
    {
     "cell_type": "markdown",
     "metadata": {},
     "source": [
      "Home Work 3\n",
      "===========\n",
      "\n",
      "Problems 7.2, 7.3, 7.10, 7.22 and 7.25.\n",
      "\n",
      "Due 2/11/15"
     ]
    },
    {
     "cell_type": "code",
     "collapsed": false,
     "input": [
      "import numpy as np\n"
     ],
     "language": "python",
     "metadata": {},
     "outputs": [],
     "prompt_number": 1
    },
    {
     "cell_type": "code",
     "collapsed": false,
     "input": [
      "# Some helper functions\n",
      "def dBm_watts(dBm):\n",
      "    ''' Function to convert dBm to watts\n",
      "    \n",
      "    Parameter\n",
      "    ---------\n",
      "    dBm:\n",
      "        value in dBm\n",
      "    \n",
      "    return\n",
      "    ------\n",
      "    watts value corisponding to dBm'''\n",
      "    return 10**(dBm/10.)\n",
      "def dB_linear(dB):\n",
      "    ''' Function to convert dB to linear\n",
      "    \n",
      "    Parameter\n",
      "    ---------\n",
      "    dB:\n",
      "        The dB value to be converted\n",
      "    \n",
      "    return\n",
      "    ------\n",
      "    linear value corisponding to dB'''\n",
      "    return 10**(dB/20)\n",
      "def linear_dB(linear):\n",
      "    ''' Function to convert linear to dB\n",
      "    \n",
      "    Parameter\n",
      "    ---------\n",
      "    linear:\n",
      "        The linear value to be converted to dB\n",
      "    \n",
      "    return\n",
      "    ------\n",
      "    dB value corisponding to linear'''\n",
      "    return 20*np.log10(np.abs(linear))"
     ],
     "language": "python",
     "metadata": {},
     "outputs": [],
     "prompt_number": 17
    },
    {
     "cell_type": "markdown",
     "metadata": {},
     "source": [
      "Problem 1, 7.2\n",
      "--------------\n",
      "\n",
      "A 20 dBm power source is connected to the input of a directional coupler having a coupling factor of\n",
      "20 dB, a directivity of 35 dB, and an insertion loss of 0.5 dB. If all ports are matched, find the output\n",
      "powers (in dBm) at the through, coupled, and isolated ports."
     ]
    },
    {
     "cell_type": "code",
     "collapsed": false,
     "input": [
      "Pin_dBm        = 20. # Power into the system dBm\n",
      "coupling_dB    = 20. # coupling factor dB\n",
      "directivity_dB = 35. # Directivity dB\n",
      "insertion_dB   = 0.5 # Insertion loss dB"
     ],
     "language": "python",
     "metadata": {},
     "outputs": [],
     "prompt_number": 3
    },
    {
     "cell_type": "markdown",
     "metadata": {},
     "source": [
      "### Equations\n",
      "\n",
      "Page 322 Pozar\n",
      "\n",
      "7.20 a.  $$ Coupling = C = 10 log { \\cfrac{ {P}_{1} }{ {P}_{3} }} =-20 log{ \\beta } dB $$\n",
      "7.20 b.  $$ Directivity = D = 10 log { \\cfrac{ {P}_{3} }{ {P}_{4} }} =-20 log{ \\cfrac{\\beta}{|{S}_{14}|}  } dB $$\n",
      "7.20 c.  $$ Isolation = I = 10 log { \\cfrac{ {P}_{1} }{ {P}_{4} }} =-20 log{ {|{S}_{14}|} } dB $$\n",
      "7.20 d.  $$ Insertion loss = L = 10 log { \\cfrac{ {P}_{1} }{ {P}_{2} }} =-20 log{|{S}_{12}|} dB $$"
     ]
    },
    {
     "cell_type": "code",
     "collapsed": false,
     "input": [
      "P3_dBm = Pin_dBm - coupling_dB\n",
      "P4_dBm = P3_dBm - directivity_dB\n",
      "P2_dBm = Pin_dBm - insertion_dB\n",
      "I = Pin_dBm-P4_dBm\n",
      "print('Power input port 1 %.2f dBm' % Pin_dBm)\n",
      "print('Power output port 2 %.2f dBm'%P2_dBm)\n",
      "print('Power output port 3 %.2f dBm'%P3_dBm)\n",
      "print('Power output port 4 %.2f dBm'%P4_dBm)\n",
      "print('Isolation of the network %.2f dBm' % (I))"
     ],
     "language": "python",
     "metadata": {},
     "outputs": [
      {
       "output_type": "stream",
       "stream": "stdout",
       "text": [
        "Power input port 1 20.00 dBm\n",
        "Power output port 2 19.50 dBm\n",
        "Power output port 3 0.00 dBm\n",
        "Power output port 4 -35.00 dBm\n",
        "Isolation of the network 55.00 dBm\n"
       ]
      }
     ],
     "prompt_number": 13
    },
    {
     "cell_type": "markdown",
     "metadata": {},
     "source": [
      "Problem 2, 7.3\n",
      "--------------\n",
      "\n",
      "A directional coupler has the scattering matrix given below. Find the return loss, coupling factor,\n",
      "directivity, and insertion loss. Assume that the ports are terminated in matched loads.\n",
      "\n",
      "$$ \\begin{equation*} \\mathbf{\\mathbf{[S]}} = \\begin{vmatrix} \n",
      "0.1 \\angle 40    & 0.944 \\angle 90  & 0.178 \\angle 180 & 0.0056 \\angle 90 \\\\\n",
      "0.944 \\angle 90  & 0.1 \\angle 40    & 0.0056 \\angle 90 & 0.178 \\angle 180\\\\\n",
      "0.178 \\angle 180 & 0.0056 \\angle 90 & 0.1 \\angle 40    & 0.944 \\angle 90\\\\\n",
      "0.0056 \\angle 90 & 0.178 \\angle 180 & 0.944 \\angle 90  & 0.1 \\angle 40 \\end{vmatrix} \\end{equation*}$$"
     ]
    },
    {
     "cell_type": "code",
     "collapsed": false,
     "input": [
      "S_abs = np.array([[    0.1, 0.944, 0.178, 0.0056],\n",
      "                  [  0.944,   0.1,0.0056,  0.178],\n",
      "                  [  0.178,0.0056,   0.1,  0.944],\n",
      "                  [ 0.0056, 0.178, 0.944,   0.1]], dtype=float)\n",
      "S_phase = np.array([[  40,  90, 180,  90],\n",
      "                    [  90,  40,  90, 180],\n",
      "                    [ 180,  90,  40,  90],\n",
      "                    [  90, 180,  90,  40]], dtype=float)\n",
      "S = S_abs * np.exp(1j*np.pi/180*S_phase)"
     ],
     "language": "python",
     "metadata": {},
     "outputs": [],
     "prompt_number": 14
    },
    {
     "cell_type": "markdown",
     "metadata": {},
     "source": [
      "### Equations\n",
      "\n",
      "Page 322 Pozar\n",
      "\n",
      "7.20 a.  $$ Coupling = C = 10 log { \\cfrac{ {P}_{1} }{ {P}_{3} }} =-20 log{ \\beta } dB $$\n",
      "7.20 b.  $$ Directivity = D = 10 log { \\cfrac{ {P}_{3} }{ {P}_{4} }} =-20 log{ \\cfrac{\\beta}{|{S}_{14}|}  } dB $$\n",
      "7.20 c.  $$ Isolation = I = 10 log { \\cfrac{ {P}_{1} }{ {P}_{4} }} =-20 log{ {|{S}_{14}|} } dB $$\n",
      "7.20 d.  $$ Insertion loss = L = 10 log { \\cfrac{ {P}_{1} }{ {P}_{2} }} =-20 log{|{S}_{12}|} dB $$"
     ]
    },
    {
     "cell_type": "code",
     "collapsed": false,
     "input": [
      "def eval_coupler(S,port=1):\n",
      "    ''' function to get the proformance metrics for couples\n",
      "    \n",
      "    Parameter\n",
      "    ---------\n",
      "    S: numpy.ndarray\n",
      "        4 port network for a coupler\n",
      "    \n",
      "    return\n",
      "    ------\n",
      "    C, D, I, L\n",
      "        C: \n",
      "            Coupling of the network\n",
      "        D:\n",
      "            Directivity of the network\n",
      "        I:\n",
      "            Isolation of the network\n",
      "        L:\n",
      "            Insertion loss of the network\n",
      "    '''\n",
      "    row = np.roll(S[port-1],port-1)\n",
      "    C = linear_dB(row[2])\n",
      "    D = linear_dB(row[2]/row[3])\n",
      "    I = linear_dB(row[3])\n",
      "    L = linear_dB(row[1])\n",
      "    return ( C, D, I, L)"
     ],
     "language": "python",
     "metadata": {},
     "outputs": [],
     "prompt_number": 20
    },
    {
     "cell_type": "code",
     "collapsed": false,
     "input": [
      "C, D, I, L = eval_coupler(S,1)\n",
      "print('Coupling: %.3f dB'%C)\n",
      "print('Directivity: %.3f dB'%D)\n",
      "print('Isolation: %.3f dB'%I)\n",
      "print('Insertion loss: %.3f dB'%D)"
     ],
     "language": "python",
     "metadata": {},
     "outputs": [
      {
       "output_type": "stream",
       "stream": "stdout",
       "text": [
        "Coupling: -14.992 dB\n",
        "Directivity: 30.045 dB\n",
        "Isolation: -45.036 dB\n",
        "Insertion loss: 30.045 dB\n"
       ]
      }
     ],
     "prompt_number": 23
    },
    {
     "cell_type": "markdown",
     "metadata": {},
     "source": [
      "Problem 3, 7.10\n",
      "---------------\n",
      "\n",
      "Design a Wilkinson power divider with a power division ratio of P3/P2 = 1/3 and a source impedance\n",
      "of 50 Ohms."
     ]
    },
    {
     "cell_type": "code",
     "collapsed": false,
     "input": [],
     "language": "python",
     "metadata": {},
     "outputs": []
    },
    {
     "cell_type": "markdown",
     "metadata": {},
     "source": [
      "Problem 4, 7.22\n",
      "---------------\n",
      "\n",
      "Design a single-section coupled line coupler with a coupling of 19.1 dB, a system impedance of\n",
      "60 Ohms, and a center frequency of 8 GHz. If the coupler is to be made in stripline (edge-coupled), with\n",
      "\n",
      "r = 2.2 and b = 0.32 cm, find the necessary strip widths and separation."
     ]
    },
    {
     "cell_type": "code",
     "collapsed": false,
     "input": [],
     "language": "python",
     "metadata": {},
     "outputs": []
    },
    {
     "cell_type": "markdown",
     "metadata": {},
     "source": [
      "Problem 5, 7.25\n",
      "---------------\n",
      "\n",
      "A 20-dB three-section coupled line coupler is required to have a maximally flat coupling response\n",
      "with a center frequency of 3 GHz and Z0 = 50 \u0007. (a) Design the coupler and find Z0e and Z0o\n",
      "for each section. Use CAD to plot the resulting coupling (in dB) from 1 to 5 GHz. (b) Lay out\n",
      "the microstrip implementation of the coupler on an FR4 substrate having \n",
      "r = 4.2, d = 0.158 cm,\n",
      "and tan \u03b4 = 0.02, with copper conductors 0.5 mil thick. Use CAD to plot the insertion loss versus\n",
      "frequency."
     ]
    },
    {
     "cell_type": "code",
     "collapsed": false,
     "input": [],
     "language": "python",
     "metadata": {},
     "outputs": [],
     "prompt_number": 19
    },
    {
     "cell_type": "code",
     "collapsed": false,
     "input": [],
     "language": "python",
     "metadata": {},
     "outputs": []
    }
   ],
   "metadata": {}
  }
 ]
}