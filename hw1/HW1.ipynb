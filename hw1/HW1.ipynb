{
 "metadata": {
  "name": ""
 },
 "nbformat": 3,
 "nbformat_minor": 0,
 "worksheets": [
  {
   "cells": [
    {
     "cell_type": "markdown",
     "metadata": {},
     "source": [
      "EEE 545 home work 1\n",
      "===================\n",
      "Pozar problems 4.14 and 4.18.\n",
      "\n",
      "Due 1/21/15"
     ]
    },
    {
     "cell_type": "code",
     "collapsed": false,
     "input": [
      "# Stuff usefull for all problems\n",
      "import numpy as np"
     ],
     "language": "python",
     "metadata": {},
     "outputs": [],
     "prompt_number": 1
    },
    {
     "cell_type": "code",
     "collapsed": false,
     "input": [
      "def dB(value):\n",
      "    ''' converts value to dB scale\n",
      "    \n",
      "    Parameter\n",
      "    ---------\n",
      "    value:\n",
      "        value to be conerted to dB\n",
      "    \n",
      "    return\n",
      "    ------\n",
      "    dB value of value\n",
      "    '''\n",
      "    return 20*np.log10(np.abs(value))\n",
      "\n",
      "def phase(value,deg=True):\n",
      "    ''' Converts value to phase\n",
      "    \n",
      "    Parameter\n",
      "    ---------\n",
      "    value:\n",
      "        Value to be converted to phase\n",
      "    \n",
      "    deg:\n",
      "        degree flag, defualt is True\n",
      "    \n",
      "    return\n",
      "    ------\n",
      "    Phase of the value\n",
      "    '''\n",
      "    return np.angle(value,deg=deg)"
     ],
     "language": "python",
     "metadata": {},
     "outputs": [],
     "prompt_number": 2
    },
    {
     "cell_type": "code",
     "collapsed": false,
     "input": [
      "def latc(mag, angle):\n",
      "    ''' latc or Linear magnitude and Angle To Complex\n",
      "    is a function that converts a tuple of Magitude \n",
      "    and angle in degrees to a complex number\n",
      "    \n",
      "    Parameters\n",
      "    ----------\n",
      "    mag: \n",
      "        magitude\n",
      "    angle:\n",
      "        angle in degrees\n",
      "    \n",
      "    return\n",
      "    ------\n",
      "    complex number form of the magitude and degree form number\n",
      "    '''\n",
      "    return mag * np.exp( 1j * np.pi * angle / 180.)"
     ],
     "language": "python",
     "metadata": {},
     "outputs": [],
     "prompt_number": 3
    },
    {
     "cell_type": "code",
     "collapsed": false,
     "input": [
      "def S_ABCD(S, Zo=50.):\n",
      "    ''' Converts a 2x2 S matrix into a 2x2 ABCD matrix\n",
      "    \n",
      "    Parameters\n",
      "    ----------\n",
      "    S: numpy.ndarray\n",
      "        S matrix to be converted\n",
      "    \n",
      "    Zo:\n",
      "        Impedance\n",
      "    \n",
      "    return\n",
      "    ------\n",
      "    ABCD matrix\n",
      "    '''\n",
      "    S11, S12, S21, S22 = S[0][0], S[0][1], S[1][0], S[1][1]\n",
      "    A, B, C, D = (( 1 + S11) * ( 1 - S22) + S12 * S21)/( 2 * S21),\\\n",
      "        Zo * (( 1 + S11) * ( 1 + S22) - S12 * S21) / ( 2 * S21),\\\n",
      "        1/Zo * ((1 - S11) * (1 - S22) - S12 * S21) / ( 2 * S21),\\\n",
      "        ((1 - S11) * ( 1 + S22) + S12 * S21)/( 2 * S21)\n",
      "    return (np.array([A, B, C, D],dtype=S.dtype)).reshape(S.shape)\n",
      "\n",
      "def ABCD_S(ABCD, Zo=50.):\n",
      "    ''' Converts ABCD matrix to S amtrix\n",
      "    \n",
      "    Parameter\n",
      "    ---------\n",
      "    ABCD: numpy.ndarray\n",
      "        ABCD matrix to be converted\n",
      "        \n",
      "    Zo:\n",
      "        Impedance\n",
      "        \n",
      "    return\n",
      "    ------\n",
      "    S matrix\n",
      "    '''\n",
      "    A, B, C, D = ABCD[0][0], ABCD[0][1], ABCD[1][0], ABCD[1][1]\n",
      "    S11, S12, S21, S22 = \\\n",
      "        (A + (B / Zo) - C * Zo - D) / (A + (B / Zo) + C * Zo + D),\\\n",
      "        2 * ( A * D - B * C ) / (A + (B / Zo) + C * Zo + D),\\\n",
      "        2 / (A + (B / Zo) + C * Zo + D),\\\n",
      "        (-1*A + (B / Zo) - C * Zo + D) / (A + (B / Zo) + C * Zo + D)\n",
      "    return ( np.array([S11,S12, S21, S22], dtype=ABCD.dtype)).reshape(ABCD.shape)"
     ],
     "language": "python",
     "metadata": {},
     "outputs": [],
     "prompt_number": 4
    },
    {
     "cell_type": "code",
     "collapsed": false,
     "input": [
      "def Casecade( networks, Zo=50.):\n",
      "    ''' Casecades python list of S matrixes\n",
      "    \n",
      "    Parameter\n",
      "    ---------\n",
      "    networks: Python list\n",
      "        List of the S matrixes in order\n",
      "    \n",
      "    Zo:\n",
      "        Impedance\n",
      "    \n",
      "    return\n",
      "    ------\n",
      "    Combined network\n",
      "    '''\n",
      "    abcd = S_ABCD(networks.pop(0), Zo=Zo)\n",
      "    for n in networks:\n",
      "        abcd = np.dot(abcd, S_ABCD(n))\n",
      "    return ABCD_S( abcd )"
     ],
     "language": "python",
     "metadata": {},
     "outputs": [],
     "prompt_number": 5
    },
    {
     "cell_type": "markdown",
     "metadata": {},
     "source": [
      "Problem 1, Pozar 4.14\n",
      "---------------------\n",
      "A four-port network has the scattering matrix shown as follows. \n",
      "\n",
      "a: Is this network lossless? \n",
      "\n",
      "b: Is this network reciprocal? \n",
      "\n",
      "c: What is the return loss at port 1 when all other ports are terminated with matched loads? \n",
      "\n",
      "d: What is the insertion loss and phase delay between ports 2 and 4 when all other ports are terminated with matched loads?\n",
      "\n",
      "e: What is the reflection coefficient seen at port 1 if a short circuit is placed at the terminal plane of port 3 and all other ports are terminated with matched loads?\n",
      "\n",
      "$$ \\begin{equation*} \\mathbf{\\mathbf{[S]}} = \\begin{vmatrix} 0.178 \\angle 90 & 0.6 \\angle 45 & 0.4 \\angle 45 & 0 \\\\\n",
      "0.6 \\angle 45 & 0 & 0 & 0.3 \\angle -45\\\\\n",
      "0.4 \\angle 45 & 0 & 0 & 0.5 \\angle -45\\\\\n",
      "0 & 0.3 \\angle -45 & 0.5 \\angle -45 & 0 \\end{vmatrix} \\end{equation*}$$"
     ]
    },
    {
     "cell_type": "code",
     "collapsed": false,
     "input": [
      "# Create the S matrix from the provide information\n",
      "S_abs = np.array([[ 0.178, 0.6  , 0.4  , 0    ],\n",
      "                  [ 0.6  , 0    , 0    , 0.3  ],\n",
      "                  [ 0.4  , 0    , 0    , 0.5  ],\n",
      "                  [ 0    , 0.3  , 0.5  , 0    ]],dtype=float)\n",
      "S_angle = np.array([[ 90, 45, 45,  0],\n",
      "                    [ 45,  0,  0,-45],\n",
      "                    [ 45,  0,  0,-45],\n",
      "                    [  0,-45,-45,  0]],dtype=float)\n",
      "S = latc(S_abs, S_angle)"
     ],
     "language": "python",
     "metadata": {},
     "outputs": [],
     "prompt_number": 6
    },
    {
     "cell_type": "markdown",
     "metadata": {},
     "source": [
      "###Problem 1, 4.14 a)\n",
      "Is this network lossless?"
     ]
    },
    {
     "cell_type": "code",
     "collapsed": false,
     "input": [
      "def is_lossless(network, max_loss=1.e-6):\n",
      "    '''is_lossless \n",
      "    is a function to test if a network is within the bounds of being lossless\n",
      "    \n",
      "    Parameters\n",
      "    ----------\n",
      "    network: ndarray\n",
      "        the scatering network for a device\n",
      "    max_loss: float\n",
      "        the maximum loss for a network to be lossless\n",
      "    \n",
      "    return\n",
      "    ------\n",
      "    True or False, conjurgate transpose of the network times the network\n",
      "    '''\n",
      "    SH_S = np.dot(network.conj().T,network)\n",
      "    if np.all(np.abs(SH_S - np.eye(SH_S.shape[0])) <= max_loss):\n",
      "        return True, SH_S\n",
      "    else:\n",
      "        return False, SH_S\n",
      "    "
     ],
     "language": "python",
     "metadata": {},
     "outputs": [],
     "prompt_number": 7
    },
    {
     "cell_type": "code",
     "collapsed": false,
     "input": [
      "lossless, SH_S = is_lossless(S)\n",
      "if lossless is True:\n",
      "    print('The network is lossless')\n",
      "else:\n",
      "    print('The network is not lossless, unless %f is within the bounds of loss'\n",
      "          % np.max(np.abs(SH_S)))"
     ],
     "language": "python",
     "metadata": {},
     "outputs": [
      {
       "output_type": "stream",
       "stream": "stdout",
       "text": [
        "The network is not lossless, unless 0.551684 is within the bounds of loss\n"
       ]
      }
     ],
     "prompt_number": 8
    },
    {
     "cell_type": "markdown",
     "metadata": {},
     "source": [
      "###Problem 1, 4.14 b)\n",
      "Is this network reciprocal? "
     ]
    },
    {
     "cell_type": "code",
     "collapsed": false,
     "input": [
      "def is_reciprocal(network, tolorance=1.e-6):\n",
      "    ''' is_reciprocal\n",
      "    functioin to test of the network is reciprocal\n",
      "    \n",
      "    Parameters\n",
      "    ----------\n",
      "    network: ndarray\n",
      "        the scattering parameter matrix for the network\n",
      "    tolorance: float\n",
      "        The tolorance value for if a network being reciprocal\n",
      "    \n",
      "    return\n",
      "    ------\n",
      "    True or False, the difference from being reciprocalible\n",
      "    '''\n",
      "    dif_rcp_net = network.T-network\n",
      "    if np.all( np.abs( dif_rcp_net) <= tolorance):\n",
      "        return True, dif_rcp_net\n",
      "    else:\n",
      "        return False, dif_rcp_net"
     ],
     "language": "python",
     "metadata": {},
     "outputs": [],
     "prompt_number": 9
    },
    {
     "cell_type": "code",
     "collapsed": false,
     "input": [
      "reciprocal, difference = is_reciprocal(S)\n",
      "if reciprocal is True:\n",
      "    print('The network is reciprocal')\n",
      "else:\n",
      "    print('The network is not reciprocal, unless %f is in the bounds of less' \n",
      "          % np.max(np.abs(difference)))"
     ],
     "language": "python",
     "metadata": {},
     "outputs": [
      {
       "output_type": "stream",
       "stream": "stdout",
       "text": [
        "The network is reciprocal\n"
       ]
      }
     ],
     "prompt_number": 10
    },
    {
     "cell_type": "markdown",
     "metadata": {},
     "source": [
      "###Problem 1, 4.14 c)\n",
      "What is the return loss at port 1 when all other ports are terminated with matched loads? "
     ]
    },
    {
     "cell_type": "code",
     "collapsed": false,
     "input": [
      "V_in = np.array([1,0,0,0],dtype=complex).reshape((4,1))"
     ],
     "language": "python",
     "metadata": {},
     "outputs": [],
     "prompt_number": 11
    },
    {
     "cell_type": "code",
     "collapsed": false,
     "input": [
      "V_out = np.dot( S, V_in)"
     ],
     "language": "python",
     "metadata": {},
     "outputs": [],
     "prompt_number": 12
    },
    {
     "cell_type": "code",
     "collapsed": false,
     "input": [
      "print('Return loss Port 1 is %.5f linear mag or %.3f dB, and %.2f phase' \n",
      "      % (np.abs(V_out[0]),dB(V_out[0]),np.angle(V_out[0],deg=True)))"
     ],
     "language": "python",
     "metadata": {},
     "outputs": [
      {
       "output_type": "stream",
       "stream": "stdout",
       "text": [
        "Return loss Port 1 is 0.17800 linear mag or -14.992 dB, and 90.00 phase\n"
       ]
      }
     ],
     "prompt_number": 13
    },
    {
     "cell_type": "markdown",
     "metadata": {},
     "source": [
      "###Problem 1, 4.14 d)\n",
      "What is the insertion loss and phase delay between ports 2 and 4 when all other ports are terminated with matched loads?"
     ]
    },
    {
     "cell_type": "code",
     "collapsed": false,
     "input": [
      "V_in = np.array([0,1,0,0],dtype=complex).reshape(4,1)"
     ],
     "language": "python",
     "metadata": {},
     "outputs": [],
     "prompt_number": 14
    },
    {
     "cell_type": "code",
     "collapsed": false,
     "input": [
      "V_out = np.dot( S, V_in)"
     ],
     "language": "python",
     "metadata": {},
     "outputs": [],
     "prompt_number": 15
    },
    {
     "cell_type": "code",
     "collapsed": false,
     "input": [
      "print('Return loss from port 2 to  is %.3f linear mag or %.3f dB, and %.2f phase'%\n",
      "      (np.abs(V_out[1]), 20*np.log10(np.abs(V_out[1])), np.angle(V_out[1],deg=True)))\n",
      "print('Insertion Loss and Phase delay from 2 to 4 is %.3f linear mag or %.3f dB, and %.2f phase'\n",
      "      %(np.abs(V_out[3]),20*np.log10(np.abs(V_out[3])), np.angle(V_out[3],deg=True)))"
     ],
     "language": "python",
     "metadata": {},
     "outputs": [
      {
       "output_type": "stream",
       "stream": "stdout",
       "text": [
        "Return loss from port 2 to  is 0.000 linear mag or -inf dB, and 0.00 phase\n",
        "Insertion Loss and Phase delay from 2 to 4 is 0.300 linear mag or -10.458 dB, and -45.00 phase\n"
       ]
      },
      {
       "output_type": "stream",
       "stream": "stderr",
       "text": [
        "-c:2: RuntimeWarning: divide by zero encountered in log10\n"
       ]
      }
     ],
     "prompt_number": 16
    },
    {
     "cell_type": "markdown",
     "metadata": {},
     "source": [
      "###Problem 1, 4.14 e)\n",
      "What is the reflection coefficient seen at port 1 if a short circuit is placed at the terminal plane of port 3 and all other ports are terminated with matched loads?"
     ]
    },
    {
     "cell_type": "code",
     "collapsed": false,
     "input": [
      "V_in = np.array([1, 0, 0, 0],dtype=complex).reshape(4,1)\n",
      "gamma = np.array([ 0, 0, -1, 0], dtype=complex).reshape(4,1)"
     ],
     "language": "python",
     "metadata": {},
     "outputs": [],
     "prompt_number": 17
    },
    {
     "cell_type": "code",
     "collapsed": false,
     "input": [
      "V_out = np.dot( S, V_in)\n",
      "V_out = np.dot( S, gamma*V_out+V_in)"
     ],
     "language": "python",
     "metadata": {},
     "outputs": [],
     "prompt_number": 18
    },
    {
     "cell_type": "code",
     "collapsed": false,
     "input": [
      "print('Return loss for port 1 is %f linear mag, and %f phase'\n",
      "      %(np.abs(V_out[0]),np.angle(V_out[0],deg=True)))"
     ],
     "language": "python",
     "metadata": {},
     "outputs": [
      {
       "output_type": "stream",
       "stream": "stdout",
       "text": [
        "Return loss for port 1 is 0.018000 linear mag, and 90.000000 phase\n"
       ]
      }
     ],
     "prompt_number": 19
    },
    {
     "cell_type": "markdown",
     "metadata": {},
     "source": [
      "Problem 2, Pozar 4.18\n",
      "---------------------\n",
      "\n",
      "A four-port network has the scattering matrix shown as follows. \n",
      "If ports 3 and 4 are connected with a lossless matched transmission line with an electrical length of 45, \n",
      "find the resulting insertion loss and phase delay between ports 1 and 2.\n",
      "\n",
      "$$ \\begin{equation*} \\mathbf{\\mathbf{[S]}} = \\begin{vmatrix} \n",
      "0.2 \\angle 50  & 0              & 0              & 0.4 \\angle -45\\\\\n",
      "0              & 0.6 \\angle 45  & 0.7 \\angle -45 & 0 \\\\\n",
      "0              & 0.7 \\angle -45 & 0.6 \\angle 45  & 0 \\\\\n",
      "0.4 \\angle -45 & 0              & 0              & 0.5 \\angle 45 \\end{vmatrix} \\end{equation*}$$"
     ]
    },
    {
     "cell_type": "code",
     "collapsed": false,
     "input": [
      "# Create the S matrix from the provide information\n",
      "S_abs = np.array([[ 0.2  , 0    , 0    , 0.4  ],\n",
      "                  [ 0    , 0.6  , 0.7  , 0    ],\n",
      "                  [ 0    , 0.7  , 0.6  , 0    ],\n",
      "                  [ 0.4  , 0    , 0    , 0.5  ]],dtype=float)\n",
      "S_angle = np.array([[ 50,  0,  0,-45],\n",
      "                    [  0, 45,-45,  0],\n",
      "                    [  0,-45, 45,  0],\n",
      "                    [-45,  0,  0, 45]],dtype=float)\n",
      "S = latc(S_abs, S_angle)"
     ],
     "language": "python",
     "metadata": {},
     "outputs": [],
     "prompt_number": 20
    },
    {
     "cell_type": "code",
     "collapsed": false,
     "input": [
      "S_line_abs = np.array([[ 0, 1],\n",
      "                       [ 1, 0]], dtype=float)\n",
      "S_line_angle = np.array([[ 0, -45],\n",
      "                         [-45,  0]], dtype=float)\n",
      "S_line = latc(S_line_abs, S_line_angle)"
     ],
     "language": "python",
     "metadata": {},
     "outputs": [],
     "prompt_number": 21
    },
    {
     "cell_type": "markdown",
     "metadata": {},
     "source": [
      "###Simple method\n",
      "This is a simple method of solving this problem. Using \n",
      "\n",
      "  1. Starting point\n",
      "  \n",
      "        <img src=\"files/images/4_18_1.png\"/>\n",
      "\n",
      "  2. First step, as the network can be separated into 2 separate networks.\n",
      "  \n",
      "        <img src=\"files/images/4_18_2a.png\"/>\n",
      "  3. Signal Flow Diagram of the network.\n",
      "  \n",
      "        <img src=\"files/images/4_18_3a.png\"/>\n",
      "  4. The simplified signal flow graph.\n",
      "  \n",
      "        <img src=\"files/images/4_18_4.png\"/>\n",
      "  5. From here the values for insertion loss and phase delay can be found.\n",
      "      $$ T = 1 \\angle -45 = {e}^{-1j* {\\pi} \\over {4}} $$\n",
      "      \n",
      "      $$ IL = {{{S}_{41} * {S}_{23} } \\over {1 - {S}_{33} * {S}_{44} * T } }$$\n",
      "      \n",
      "      $$ IL = {{{0.4 \\angle -45} * {0.7 \\angle -45} } \\over {1 - {0.6 \\angle 45} * {0.3 \\angle 45} * 1 \\angle -45 } }$$\n",
      "      \n",
      "      $$ IL = {{0.28 \\angle -135} \\over {1 - 0.18 \\angle 0}} $$\n",
      "      \n",
      "      $$ IL = {{0.28 \\angle -135} \\over {0.82 \\angle 0}} $$\n",
      "      \n",
      "      $$ IL = {0.34145 \\angle -135.  }$$\n",
      "      \n",
      "      $$ IL = 9.333 dB \\angle -135.$$"
     ]
    },
    {
     "cell_type": "code",
     "collapsed": false,
     "input": [
      "IL = ((S[0][3]*S[1][2]*np.exp(-11j*np.pi/4))\\\n",
      "    /(1-S[2][2]*S[3][3]*(np.exp(-1j*np.pi/4))**2))\n",
      "print(\"Insertion Loss is %.3f dB and Phase delay is %.2f degrees\" \n",
      "      % (-dB(IL), phase(IL)))"
     ],
     "language": "python",
     "metadata": {},
     "outputs": [
      {
       "output_type": "stream",
       "stream": "stdout",
       "text": [
        "Insertion Loss is 7.959 dB and Phase delay is 135.00 degrees\n"
       ]
      }
     ],
     "prompt_number": 22
    },
    {
     "cell_type": "markdown",
     "metadata": {},
     "source": [
      "### More advanced method\n",
      "This is another more advanced method using convertion to ABCD matrixes and back to S amtrixes."
     ]
    },
    {
     "cell_type": "code",
     "collapsed": false,
     "input": [
      "Sp14, Sp23 = (S[[0,3]][:,[0,3]]), (S[[1,2]][:,[1,2]])\n",
      "networks = [ Sp14, S_line, Sp23]\n",
      "eq_net = Casecade(networks)\n",
      "np.abs(IL)"
     ],
     "language": "python",
     "metadata": {},
     "outputs": [
      {
       "metadata": {},
       "output_type": "pyout",
       "prompt_number": 23,
       "text": [
        "0.40000000000000002"
       ]
      }
     ],
     "prompt_number": 23
    },
    {
     "cell_type": "code",
     "collapsed": false,
     "input": [
      "IL = eq_net[0,1]\n",
      "print(\"Insertion loss from Port 1 to 2 %.3f dB and %.2f degrees phase\"\n",
      "      % (-dB(IL), phase(IL)))"
     ],
     "language": "python",
     "metadata": {},
     "outputs": [
      {
       "output_type": "stream",
       "stream": "stdout",
       "text": [
        "Insertion loss from Port 1 to 2 7.959 dB and -135.00 degrees phase\n"
       ]
      }
     ],
     "prompt_number": 24
    }
   ],
   "metadata": {}
  }
 ]
}