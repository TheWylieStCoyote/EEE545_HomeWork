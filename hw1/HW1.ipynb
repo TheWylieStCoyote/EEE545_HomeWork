{
 "metadata": {
  "name": ""
 },
 "nbformat": 3,
 "nbformat_minor": 0,
 "worksheets": [
  {
   "cells": [
    {
     "cell_type": "markdown",
     "metadata": {},
     "source": [
      "EEE 545 home work 1\n",
      "===================\n",
      "Pozar problems 4.14 and 4.18.\n",
      "\n",
      "Due 1/21/15"
     ]
    },
    {
     "cell_type": "code",
     "collapsed": false,
     "input": [
      "# Stuff usefull for all problems\n",
      "import numpy as np"
     ],
     "language": "python",
     "metadata": {},
     "outputs": [],
     "prompt_number": 91
    },
    {
     "cell_type": "code",
     "collapsed": false,
     "input": [
      "def latc(mag, angle):\n",
      "    ''' latc or Linear magnitude and Angle To Complex\n",
      "    is a function that converts a tuple of Magitude \n",
      "    and angle in degrees to a complex number\n",
      "    \n",
      "    Parameters\n",
      "    ----------\n",
      "    mag: \n",
      "        magitude\n",
      "    angle:\n",
      "        angle in degrees\n",
      "    \n",
      "    return\n",
      "    ------\n",
      "    complex number form of the magitude and degree form number\n",
      "    '''\n",
      "    return mag * np.exp( 1j * np.pi * angle / 180.)"
     ],
     "language": "python",
     "metadata": {},
     "outputs": [],
     "prompt_number": 41
    },
    {
     "cell_type": "markdown",
     "metadata": {},
     "source": [
      "Problem 1, Pozar 4.14\n",
      "---------------------\n",
      "A four-port network has the scattering matrix shown as follows. \n",
      "\n",
      "a: Is this network lossless? \n",
      "\n",
      "b: Is this network reciprocal? \n",
      "\n",
      "c: What is the return loss at port 1 when all other ports are terminated with matched loads? \n",
      "\n",
      "d: What is the insertion loss and phase delay between ports 2 and 4 when all other ports are terminated with matched loads?\n",
      "\n",
      "e: What is the reflection coefficient seen at port 1 if a short circuit is placed at the terminal plane of port 3 and all other ports are terminated with matched loads?\n",
      "\n",
      "$$ \\begin{equation*} \\mathbf{\\mathbf{[S]}} = \\begin{vmatrix} 0.178 \\angle 90 & 0.6 \\angle 45 & 0.4 \\angle 45 & 0 \\\\\n",
      "0.6 \\angle 45 & 0 & 0 & 0.3 \\angle -45\\\\\n",
      "0.4 \\angle 45 & 0 & 0 & 0.5 \\angle -45\\\\\n",
      "0 & 0.3 \\angle -45 & 0.5 \\angle -45 & 0 \\end{vmatrix} \\end{equation*}$$"
     ]
    },
    {
     "cell_type": "code",
     "collapsed": false,
     "input": [
      "# Create the S matrix from the provide information\n",
      "S_abs = np.array([[ 0.178, 0.6  , 0.4  , 0    ],\n",
      "                  [ 0.6  , 0    , 0    , 0.3  ],\n",
      "                  [ 0.4  , 0    , 0    , 0.5  ],\n",
      "                  [ 0    , 0.3  , 0.5  , 0    ]],dtype=float)\n",
      "S_angle = np.array([[ 90, 45, 45,  0],\n",
      "                    [ 45,  0,  0,-45],\n",
      "                    [ 45,  0,  0,-45],\n",
      "                    [  0,-45,-45,  0]],dtype=float)\n",
      "S = latc(S_abs, S_angle)"
     ],
     "language": "python",
     "metadata": {},
     "outputs": [],
     "prompt_number": 82
    },
    {
     "cell_type": "markdown",
     "metadata": {},
     "source": [
      "###Problem 1, 4.14 a)\n",
      "Is this network lossless?"
     ]
    },
    {
     "cell_type": "code",
     "collapsed": false,
     "input": [
      "def is_lossless(network, max_loss=1.e-6):\n",
      "    '''is_lossless \n",
      "    is a function to test if a network is within the bounds of being lossless\n",
      "    \n",
      "    Parameters\n",
      "    ----------\n",
      "    network: ndarray\n",
      "        the scatering network for a device\n",
      "    max_loss: float\n",
      "        the maximum loss for a network to be lossless\n",
      "    \n",
      "    return\n",
      "    ------\n",
      "    True or False, conjurgate transpose of the network times the network'''\n",
      "    SH_S = np.dot(network.conj().T,network)\n",
      "    if np.all(np.abs(SH_S - np.eye(SH_S.shape[0])) <= max_loss):\n",
      "        return True, SH_S\n",
      "    else:\n",
      "        return False, SH_S\n",
      "    "
     ],
     "language": "python",
     "metadata": {},
     "outputs": [],
     "prompt_number": 83
    },
    {
     "cell_type": "code",
     "collapsed": false,
     "input": [
      "lossless, SH_S = is_lossless(S)\n",
      "if lossless is True:\n",
      "    print('The network is lossless')\n",
      "else:\n",
      "    print('The network is not lossless, unless %f is within the bounds of loss' % np.max(np.abs(SH_S)))"
     ],
     "language": "python",
     "metadata": {},
     "outputs": [
      {
       "output_type": "stream",
       "stream": "stdout",
       "text": [
        "The network is not lossless, unless 0.551684 is within the bounds of loss\n"
       ]
      }
     ],
     "prompt_number": 89
    },
    {
     "cell_type": "markdown",
     "metadata": {},
     "source": [
      "###Problem 1, 4.14 b)\n",
      "Is this network reciprocal? "
     ]
    },
    {
     "cell_type": "code",
     "collapsed": false,
     "input": [
      "def is_reciprocal(network, tolorance=1.e-6):\n",
      "    ''' is_reciprocal\n",
      "    functioin to test of the network is reciprocal\n",
      "    \n",
      "    Parameters\n",
      "    ----------\n",
      "    network: ndarray\n",
      "        the scattering parameter matrix for the network\n",
      "    tolorance: float\n",
      "        The tolorance value for if a network being reciprocal\n",
      "    \n",
      "    return\n",
      "    ------\n",
      "    True or False, the difference from being reciprocalible\n",
      "    '''\n",
      "    dif_rcp_net = network.T-network\n",
      "    if np.all( np.abs( dif_rcp_net) <= tolorance):\n",
      "        return True, dif_rcp_net\n",
      "    else:\n",
      "        return False, dif_rcp_net"
     ],
     "language": "python",
     "metadata": {},
     "outputs": [],
     "prompt_number": 85
    },
    {
     "cell_type": "code",
     "collapsed": false,
     "input": [
      "reciprocal, difference = is_reciprocal(S)\n",
      "if reciprocal is True:\n",
      "    print('The network is reciprocal')\n",
      "else:\n",
      "    print('The network is not reciprocal, unless %f is within the bounds of less' % np.max(np.abs(difference)))"
     ],
     "language": "python",
     "metadata": {},
     "outputs": [
      {
       "output_type": "stream",
       "stream": "stdout",
       "text": [
        "The network is reciprocal\n"
       ]
      }
     ],
     "prompt_number": 88
    },
    {
     "cell_type": "markdown",
     "metadata": {},
     "source": [
      "###Problem 1, 4.14 c)\n",
      "What is the return loss at port 1 when all other ports are terminated with matched loads? "
     ]
    },
    {
     "cell_type": "code",
     "collapsed": false,
     "input": [
      "V_in = np.array([1,0,0,0],dtype=complex).reshape((4,1))"
     ],
     "language": "python",
     "metadata": {},
     "outputs": [],
     "prompt_number": 108
    },
    {
     "cell_type": "code",
     "collapsed": false,
     "input": [
      "V_out = np.dot( S, V_in)"
     ],
     "language": "python",
     "metadata": {},
     "outputs": [],
     "prompt_number": 112
    },
    {
     "cell_type": "code",
     "collapsed": false,
     "input": [
      "print('Return loss for port 1 is %f linear mag, and %f phase' % (np.abs(V_out[0]),np.angle(V_out[0],deg=True)))"
     ],
     "language": "python",
     "metadata": {},
     "outputs": [
      {
       "output_type": "stream",
       "stream": "stdout",
       "text": [
        "Return loss for port 1 is 0.178000 linear mag, and 90.000000 phase\n"
       ]
      }
     ],
     "prompt_number": 110
    },
    {
     "cell_type": "markdown",
     "metadata": {},
     "source": [
      "###Problem 1, 4.14 d)\n",
      "What is the insertion loss and phase delay between ports 2 and 4 when all other ports are terminated with matched loads?"
     ]
    },
    {
     "cell_type": "code",
     "collapsed": false,
     "input": [
      "V_in = np.array([0,1,0,0],dtype=complex).reshape(4,1)"
     ],
     "language": "python",
     "metadata": {},
     "outputs": [],
     "prompt_number": 111
    },
    {
     "cell_type": "code",
     "collapsed": false,
     "input": [
      "V_out = np.dot( S, V_in)"
     ],
     "language": "python",
     "metadata": {},
     "outputs": [],
     "prompt_number": 113
    },
    {
     "cell_type": "code",
     "collapsed": false,
     "input": [
      "print('Insertion loss from port 2 is %f linear mag, and %f phase' % (np.abs(V_out[1]),np.angle(V_out[1],deg=True)))\n",
      "print('Loss and Phase delay from 2 to 4 is %f linear mag, and %f phase' % (np.abs(V_out[3]),np.angle(V_out[3],deg=True)))"
     ],
     "language": "python",
     "metadata": {},
     "outputs": [
      {
       "output_type": "stream",
       "stream": "stdout",
       "text": [
        "Insertion loss from port 2 is 0.000000 linear mag, and 0.000000 phase\n",
        "Loss and Phase delay from 2 to 4 is 0.300000 linear mag, and -45.000000 phase\n"
       ]
      }
     ],
     "prompt_number": 117
    },
    {
     "cell_type": "markdown",
     "metadata": {},
     "source": [
      "###Problem 1, 4.14 e)\n",
      "What is the reflection coefficient seen at port 1 if a short circuit is placed at the terminal plane of port 3 and all other ports are terminated with matched loads?"
     ]
    },
    {
     "cell_type": "code",
     "collapsed": false,
     "input": [],
     "language": "python",
     "metadata": {},
     "outputs": []
    },
    {
     "cell_type": "code",
     "collapsed": false,
     "input": [],
     "language": "python",
     "metadata": {},
     "outputs": []
    },
    {
     "cell_type": "code",
     "collapsed": false,
     "input": [],
     "language": "python",
     "metadata": {},
     "outputs": []
    },
    {
     "cell_type": "markdown",
     "metadata": {},
     "source": [
      "Problem 2, Pozar 4.18\n",
      "---------------------\n",
      "\n",
      "A four-port network has the scattering matrix shown as follows. \n",
      "If ports 3 and 4 are connected with a lossless matched transmission line with an electrical length of 45\u25e6, \n",
      "find the resulting insertion loss and phase delay between ports 1 and 2.\n",
      "\n",
      "$$ \\begin{equation*} \\mathbf{\\mathbf{[S]}} = \\begin{vmatrix} \n",
      "0.2 \\angle 50  & 0              & 0              & 0.4 \\angle -45\\\\\n",
      "0              & 0.6 \\angle 45  & 0.7 \\angle -45 & 0 \\\\\n",
      "0              & 0.7 \\angle -45 & 0.6 \\angle 45  & 0 \\\\\n",
      "0.4 \\angle -45 & 0              & 0              & 0.3 \\angle 45 \\end{vmatrix} \\end{equation*}$$"
     ]
    },
    {
     "cell_type": "code",
     "collapsed": false,
     "input": [
      "# Create the S matrix from the provide information\n",
      "S_abs = np.array([[ 0.2  , 0    , 0    , 0.4  ],\n",
      "                  [ 0    , 0.6  , 0.7  , 0    ],\n",
      "                  [ 0    , 0.7  , 0.6  , 0    ],\n",
      "                  [ 0.4  , 0    , 0    , 0.3  ]],dtype=float)\n",
      "S_angle = np.array([[ 50,  0,  0,-45],\n",
      "                    [ 45, 45,-45,  0],\n",
      "                    [  0,-45, 45,  0],\n",
      "                    [-45,  0,  0, 45]],dtype=float)\n",
      "S = latc(S_abs, S_angle)"
     ],
     "language": "python",
     "metadata": {},
     "outputs": [],
     "prompt_number": 42
    },
    {
     "cell_type": "code",
     "collapsed": false,
     "input": [],
     "language": "python",
     "metadata": {},
     "outputs": [],
     "prompt_number": 43
    },
    {
     "cell_type": "code",
     "collapsed": false,
     "input": [],
     "language": "python",
     "metadata": {},
     "outputs": [],
     "prompt_number": 43
    },
    {
     "cell_type": "code",
     "collapsed": false,
     "input": [],
     "language": "python",
     "metadata": {},
     "outputs": []
    }
   ],
   "metadata": {}
  }
 ]
}